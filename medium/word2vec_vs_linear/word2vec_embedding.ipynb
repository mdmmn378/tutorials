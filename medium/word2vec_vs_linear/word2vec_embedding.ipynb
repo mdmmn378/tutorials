{
 "cells": [
  {
   "cell_type": "markdown",
   "metadata": {},
   "source": [
    "# Import  Modules"
   ]
  },
  {
   "cell_type": "code",
   "execution_count": 14,
   "metadata": {},
   "outputs": [],
   "source": [
    "import numpy as np\n",
    "import random\n",
    "import os\n",
    "import torch\n",
    "from torch.optim import RMSprop\n",
    "from torch import nn\n",
    "from IPython.core.debugger import set_trace"
   ]
  },
  {
   "cell_type": "markdown",
   "metadata": {},
   "source": [
    "# Define word2vec with pytorch Embedding"
   ]
  },
  {
   "cell_type": "code",
   "execution_count": 15,
   "metadata": {},
   "outputs": [],
   "source": [
    "class Embedding_embedding(nn.Module):\n",
    "    def __init__(self):\n",
    "        super().__init__()\n",
    "        self.linear_1 = nn.Embedding(5,3)\n",
    "        self.linear_2 = nn.Linear(3,2,bias=False)\n",
    "    def forward(self,x):\n",
    "        x = self.linear_1(x)\n",
    "        x = self.linear_2(x)\n",
    "        return x\n",
    "\n",
    "embd_emb = Embedding_embedding()\n",
    "optim_emb = torch.optim.SGD(embd_emb.parameters(),lr=1)"
   ]
  },
  {
   "cell_type": "markdown",
   "metadata": {},
   "source": [
    "# Define  word2vec with pytorch Linear"
   ]
  },
  {
   "cell_type": "code",
   "execution_count": 16,
   "metadata": {},
   "outputs": [],
   "source": [
    "class Embedding_linear(nn.Module):\n",
    "    def __init__(self):\n",
    "        super().__init__()\n",
    "        self.linear_1 = nn.Linear(5,3,bias=False)\n",
    "        self.linear_2 = nn.Linear(3,2,bias=False)\n",
    "    def forward(self,x):\n",
    "        x = self.linear_1.weight.data[x.data]\n",
    "        x = self.linear_2(x)\n",
    "        return x\n",
    "\n",
    "embd_lin = Embedding_linear()\n",
    "optim_lin = torch.optim.SGD(embd_lin.parameters(),lr=1)"
   ]
  },
  {
   "cell_type": "code",
   "execution_count": 17,
   "metadata": {},
   "outputs": [
    {
     "name": "stdout",
     "output_type": "stream",
     "text": [
      "Parameter containing:\n",
      "tensor([[ 1.0444, -0.4959, -0.9114],\n",
      "        [ 3.3869,  0.5671, -0.6503],\n",
      "        [ 0.5815, -0.5658,  0.3803],\n",
      "        [-0.9690,  0.8647, -0.5627],\n",
      "        [ 1.7004,  0.6742,  1.4118]], requires_grad=True)\n",
      "Parameter containing:\n",
      "tensor([[-0.2777,  0.1487,  0.4403, -0.0120,  0.0886],\n",
      "        [-0.1846, -0.2153, -0.2824, -0.4455,  0.4130],\n",
      "        [-0.4275, -0.2174, -0.4104,  0.0337,  0.1484]], requires_grad=True)\n"
     ]
    }
   ],
   "source": [
    "print(embd_emb.linear_1.weight)\n",
    "print(embd_lin.linear_1.weight)"
   ]
  },
  {
   "cell_type": "markdown",
   "metadata": {},
   "source": [
    "# Inintialize both newtork with same parameters"
   ]
  },
  {
   "cell_type": "code",
   "execution_count": 18,
   "metadata": {},
   "outputs": [],
   "source": [
    "with torch.no_grad():\n",
    "    tmp = torch.nn.Parameter(embd_emb.linear_1.weight)\n",
    "    embd_lin.linear_1.weight = tmp\n",
    "    tmp = torch.nn.Parameter(embd_emb.linear_2.weight)\n",
    "    embd_lin.linear_2.weight = tmp"
   ]
  },
  {
   "cell_type": "code",
   "execution_count": 19,
   "metadata": {},
   "outputs": [
    {
     "name": "stdout",
     "output_type": "stream",
     "text": [
      "Parameter containing:\n",
      "tensor([[ 1.0444, -0.4959, -0.9114],\n",
      "        [ 3.3869,  0.5671, -0.6503],\n",
      "        [ 0.5815, -0.5658,  0.3803],\n",
      "        [-0.9690,  0.8647, -0.5627],\n",
      "        [ 1.7004,  0.6742,  1.4118]], requires_grad=True)\n",
      "Parameter containing:\n",
      "tensor([[ 1.0444, -0.4959, -0.9114],\n",
      "        [ 3.3869,  0.5671, -0.6503],\n",
      "        [ 0.5815, -0.5658,  0.3803],\n",
      "        [-0.9690,  0.8647, -0.5627],\n",
      "        [ 1.7004,  0.6742,  1.4118]], requires_grad=True)\n"
     ]
    }
   ],
   "source": [
    "print(list(embd_emb.parameters())[0])\n",
    "print(list(embd_lin.parameters())[0])"
   ]
  },
  {
   "cell_type": "markdown",
   "metadata": {},
   "source": [
    "# Flow data"
   ]
  },
  {
   "cell_type": "markdown",
   "metadata": {},
   "source": [
    "### for embd_emb model"
   ]
  },
  {
   "cell_type": "code",
   "execution_count": 20,
   "metadata": {},
   "outputs": [
    {
     "name": "stdout",
     "output_type": "stream",
     "text": [
      "tensor(14.9193, grad_fn=<SumBackward0>)\n"
     ]
    }
   ],
   "source": [
    "x_emb = torch.LongTensor([0,1,2,2,4,1])\n",
    "ans_emb = embd_emb(x_emb)\n",
    "\n",
    "y_emb = np.ones([1,2])\n",
    "loss_emb = ans_emb-torch.Tensor(y_emb)\n",
    "loss_tmp_emb = loss_emb.detach().numpy().copy()\n",
    "loss_emb = loss_emb**2\n",
    "loss_emb = loss_emb.sum()\n",
    "print(loss_emb)\n",
    "optim_emb.zero_grad()\n",
    "loss_emb.backward()\n",
    "\n"
   ]
  },
  {
   "cell_type": "markdown",
   "metadata": {},
   "source": [
    "### for embd_lin model"
   ]
  },
  {
   "cell_type": "code",
   "execution_count": 21,
   "metadata": {},
   "outputs": [
    {
     "name": "stdout",
     "output_type": "stream",
     "text": [
      "tensor(14.9193, grad_fn=<SumBackward0>)\n"
     ]
    }
   ],
   "source": [
    "x_lin = torch.LongTensor([0,1,2,2,4,1])\n",
    "ans_lin = embd_lin(x_lin)\n",
    "\n",
    "y_lin = np.ones([1,2])\n",
    "loss_lin = ans_lin-torch.Tensor(y_lin)\n",
    "loss_tmp_lin = loss_lin.detach().numpy().copy()\n",
    "loss_lin = loss_lin**2\n",
    "loss_lin = loss_lin.sum()\n",
    "print(loss_lin)\n",
    "optim_lin.zero_grad()\n",
    "loss_lin.backward()"
   ]
  },
  {
   "cell_type": "markdown",
   "metadata": {},
   "source": [
    "# Calculating Gradient"
   ]
  },
  {
   "cell_type": "markdown",
   "metadata": {},
   "source": [
    "### Manually"
   ]
  },
  {
   "cell_type": "code",
   "execution_count": 22,
   "metadata": {},
   "outputs": [
    {
     "name": "stdout",
     "output_type": "stream",
     "text": [
      "Updated weight after manual backpropagation \n",
      "[[ 0.7516109   0.603504   -1.8834918 ]\n",
      " [ 1.1599792   2.374674   -0.40530527]\n",
      " [ 1.2570589   2.9620557  -4.4448185 ]\n",
      " [-0.96902066  0.86467224 -0.56268245]\n",
      " [ 2.0292573   2.4206758  -0.9710889 ]]\n"
     ]
    }
   ],
   "source": [
    "\n",
    "w1 = embd_emb.linear_1._parameters['weight'].detach().numpy().copy()\n",
    "w2 = embd_emb.linear_2._parameters['weight'].detach().numpy().copy()\n",
    "\n",
    "grd = 2*np.dot(loss_tmp_emb,w2)\n",
    "s = embd_emb.linear_1._parameters['weight'].detach().numpy().copy()\n",
    "rng = list(x_lin.numpy())\n",
    "for i in rng:\n",
    "    s[i] = s[i] - grd[i]\n",
    "print(f'Updated weight after manual backpropagation \\n{s}')"
   ]
  },
  {
   "cell_type": "markdown",
   "metadata": {},
   "source": [
    "## with autograd"
   ]
  },
  {
   "cell_type": "code",
   "execution_count": 23,
   "metadata": {},
   "outputs": [
    {
     "name": "stdout",
     "output_type": "stream",
     "text": [
      "Updated weights of linear_1 of the first model \n",
      " tensor([[ 0.7516,  0.6035, -1.8835],\n",
      "        [ 1.1600,  2.3747, -0.4053],\n",
      "        [ 1.2571,  2.9621, -4.4448],\n",
      "        [-0.9690,  0.8647, -0.5627],\n",
      "        [ 2.0293,  2.4207, -0.9711]])\n",
      "Updated weights of linear_1 of the second model \n",
      " tensor([[ 0.7516,  0.6035, -1.8835],\n",
      "        [ 1.1600,  2.3747, -0.4053],\n",
      "        [ 1.2571,  2.9621, -4.4448],\n",
      "        [-0.9690,  0.8647, -0.5627],\n",
      "        [ 2.0293,  2.4207, -0.9711]])\n"
     ]
    }
   ],
   "source": [
    "# print(list(embd_emb.parameters())[0].grad[0])\n",
    "# print(f'with numpy {grd}')\n",
    "\n",
    "optim_emb.step()\n",
    "optim_lin.step()\n",
    "\n",
    "print(f'Updated weights of linear_1 of the first model \\n {embd_emb.linear_1._parameters[\"weight\"].detach()}')\n",
    "\n",
    "print(f'Updated weights of linear_1 of the second model \\n {embd_lin.linear_1._parameters[\"weight\"].detach()}')"
   ]
  },
  {
   "cell_type": "code",
   "execution_count": null,
   "metadata": {},
   "outputs": [],
   "source": []
  },
  {
   "cell_type": "code",
   "execution_count": null,
   "metadata": {},
   "outputs": [],
   "source": []
  }
 ],
 "metadata": {
  "kernelspec": {
   "display_name": "Python 3",
   "language": "python",
   "name": "python3"
  },
  "language_info": {
   "codemirror_mode": {
    "name": "ipython",
    "version": 3
   },
   "file_extension": ".py",
   "mimetype": "text/x-python",
   "name": "python",
   "nbconvert_exporter": "python",
   "pygments_lexer": "ipython3",
   "version": "3.6.5"
  }
 },
 "nbformat": 4,
 "nbformat_minor": 2
}
